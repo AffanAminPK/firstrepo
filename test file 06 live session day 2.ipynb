{
 "cells": [
  {
   "cell_type": "code",
   "execution_count": null,
   "metadata": {},
   "outputs": [],
   "source": [
    "#body mass index\n",
    "#input wieght\n",
    "#hieght\n",
    "#Bmi(ask by your self)\n",
    "#wieght\n",
    "#caluculate BMI\n",
    "#print BMI(my name is...,and my bmi is)"
   ]
  },
  {
   "cell_type": "code",
   "execution_count": null,
   "metadata": {},
   "outputs": [],
   "source": []
  },
  {
   "cell_type": "code",
   "execution_count": null,
   "metadata": {},
   "outputs": [],
   "source": []
  },
  {
   "cell_type": "code",
   "execution_count": null,
   "metadata": {},
   "outputs": [],
   "source": [
    "#BMi wieght in kg/hieght in meter and its square"
   ]
  },
  {
   "cell_type": "code",
   "execution_count": null,
   "metadata": {},
   "outputs": [],
   "source": [
    "height=input(\"what is your height?\")"
   ]
  },
  {
   "cell_type": "code",
   "execution_count": null,
   "metadata": {},
   "outputs": [],
   "source": [
    "\n",
    "height=float(height)"
   ]
  },
  {
   "cell_type": "code",
   "execution_count": null,
   "metadata": {},
   "outputs": [],
   "source": [
    "weight=input(\"what is your weight?\")"
   ]
  },
  {
   "cell_type": "code",
   "execution_count": null,
   "metadata": {},
   "outputs": [],
   "source": [
    "weight=float(weight)"
   ]
  },
  {
   "cell_type": "code",
   "execution_count": null,
   "metadata": {},
   "outputs": [],
   "source": [
    "name=input(\"what is your name\")"
   ]
  },
  {
   "cell_type": "code",
   "execution_count": null,
   "metadata": {},
   "outputs": [],
   "source": [
    "BMI=weight/height**2\n",
    "BMI\n"
   ]
  },
  {
   "cell_type": "code",
   "execution_count": null,
   "metadata": {},
   "outputs": [],
   "source": [
    "print(\"my name is\",name, \"and my bmi is\",BMI)"
   ]
  },
  {
   "cell_type": "code",
   "execution_count": null,
   "metadata": {},
   "outputs": [],
   "source": []
  },
  {
   "cell_type": "markdown",
   "metadata": {},
   "source": [
    "# how to import library(06 live session(day-2)(1:09:17 time)"
   ]
  },
  {
   "cell_type": "markdown",
   "metadata": {},
   "source": [
    "### **import** likh kr**library name(seaborn)** **a** **sns** likh kr  ## agry hum in libraries k **as** lga kr internationaly famous name short form mn likh dya kry gy taky code zyada lamba na ho bar bar likhny mn asani ho"
   ]
  },
  {
   "cell_type": "markdown",
   "metadata": {},
   "source": [
    "##**sns** libry k andr titanic ka bulit in data set majood hn"
   ]
  },
  {
   "cell_type": "code",
   "execution_count": null,
   "metadata": {},
   "outputs": [],
   "source": [
    "import seaborn as sns\n",
    "import matplotlib.pylot as plt\n",
    "sns.set_theme(style=\"ticks\",color_codes=True)\n",
    "\n",
    "titanic = sns.load_dataset(\"titanic\")\n",
    "sns.catplot(x=\"sex\",y=\"survived\",hue=\"class\",kind=\"bar\",data=titanic)\n",
    "plt.show()"
   ]
  },
  {
   "cell_type": "code",
   "execution_count": null,
   "metadata": {},
   "outputs": [],
   "source": [
    "##pip instal seaborn \n",
    "##pip install matplotlib ##write on vs terminal for installnation"
   ]
  },
  {
   "cell_type": "code",
   "execution_count": null,
   "metadata": {},
   "outputs": [],
   "source": [
    "pip install seaborn"
   ]
  },
  {
   "cell_type": "code",
   "execution_count": null,
   "metadata": {},
   "outputs": [],
   "source": [
    "pip install matplotlib"
   ]
  },
  {
   "cell_type": "code",
   "execution_count": null,
   "metadata": {},
   "outputs": [],
   "source": [
    "import seaborn as sns\n",
    "import matplotlib.pyplot as plt\n",
    "sns.set_theme(style=\"ticks\",color_codes=True)\n",
    "\n",
    "titanic = sns.load_dataset(\"titanic\")\n",
    "sns.catplot(x=\"sex\",y=\"survived\",hue=\"class\",kind=\"bar\",data=titanic)\n",
    "plt.show()"
   ]
  },
  {
   "cell_type": "code",
   "execution_count": null,
   "metadata": {},
   "outputs": [],
   "source": [
    "\n",
    "import seaborn as sns\n",
    "seaborn.set_theme(style=\"ticks\",color_codes=True)\n"
   ]
  },
  {
   "cell_type": "code",
   "execution_count": null,
   "metadata": {},
   "outputs": [],
   "source": [
    "c"
   ]
  },
  {
   "cell_type": "markdown",
   "metadata": {},
   "source": [
    "# pip install seaborn"
   ]
  },
  {
   "cell_type": "code",
   "execution_count": null,
   "metadata": {},
   "outputs": [],
   "source": [
    "pip install seaborn"
   ]
  },
  {
   "cell_type": "code",
   "execution_count": null,
   "metadata": {},
   "outputs": [],
   "source": [
    "pip instal matplotlib"
   ]
  },
  {
   "cell_type": "code",
   "execution_count": null,
   "metadata": {},
   "outputs": [],
   "source": [
    "import seaborn as sns\n",
    "import matplotlib.pyplot as plt\n",
    "\n",
    "\n",
    "sns.set_theme (style=\"ticks\", color_codes=True)\n",
    "\n",
    "titanic = sns.load_dataset(\"titanic\")\n",
    "\n",
    "p1=sns.countplot (x= 'sex', data-titanic, hue='class')\n",
    "\n",
    "pl.set_title(\"Plot for Couting\")\n",
    "\n",
    "plt.show()"
   ]
  },
  {
   "cell_type": "code",
   "execution_count": null,
   "metadata": {},
   "outputs": [],
   "source": [
    "print(seaborn.version)"
   ]
  },
  {
   "cell_type": "code",
   "execution_count": null,
   "metadata": {},
   "outputs": [],
   "source": [
    "\n",
    "import seaborn as sns\n",
    "import matplotlib.pyplot as plt\n",
    "sns.set_theme(style=\"ticks\",color_codes=True)\n",
    "\n",
    "titanic=sns.load_dataset(\"titanic\")\n",
    "sns.catplot(x=\"sex\",y=\"survived\",hue=\"class\",kind=\"bar\",data=titanic)\n",
    "plt.show()"
   ]
  },
  {
   "cell_type": "code",
   "execution_count": null,
   "metadata": {},
   "outputs": [],
   "source": [
    "import seaborn as sns\n",
    "import matplotlib.pyplot as plt\n",
    "sns.set_theme(style=\"ticks\",color_codes=True)\n",
    "titanic=sns.load_dataset(\"titanic\")\n",
    "p1=sns.countplot(x=\"sex\",data=titanic,hue=\"class\")\n",
    "p1.set_title(\"plot for counting\")\n",
    "plt.show()"
   ]
  },
  {
   "cell_type": "code",
   "execution_count": null,
   "metadata": {},
   "outputs": [],
   "source": [
    "#app sirf variable change kry appka graph chang hojaay ga\n"
   ]
  },
  {
   "cell_type": "code",
   "execution_count": null,
   "metadata": {},
   "outputs": [],
   "source": [
    "# import seaborn as sns\n",
    "# import matplotlib.pyplot as plt\n",
    "# sns.set_theme(style=\"ticks\",color_codes=True)\n",
    "# titanic=sns.load_dataset(\"titanic\")\n",
    "# sns.catplot(x=\"sex\",y=\"survived\",hue=\"class\",kind=\"bar\",data=titanic)\n",
    "# plt.show()\n",
    "# titanic\n",
    "# print(titanic)\n",
    "\n",
    "# import seaborn as sns\n",
    "# import matplotlib.pyplot as plt\n",
    "# sns.set_theme(style=\"ticks\",color_codes=True)\n",
    "# titanic=sns.load_dataset(\"titanic\")\n",
    "# p1=sns.countplot(x=\"sex\",data=titanic,hue=\"class\")\n",
    "# p1.set_title(\"plot for counting\")\n",
    "# plt.show()\n",
    "\n",
    "import seaborn as sns\n",
    "import matplotlib.pyplot as plt\n",
    "sns.set_theme(style=\"ticks\",color_codes=True)\n",
    "titanic=sns.load_dataset(\"titanic\")\n",
    "print(titanic)\n",
    "# p1=sns.countplot(x=\"sex\",data=titanic,hue=\"class\")\n",
    "# p1.set_title(\"plot for counting\")\n",
    "# plt.show()"
   ]
  },
  {
   "cell_type": "markdown",
   "metadata": {},
   "source": [
    "# 07 live session data visualization\n",
    "\n",
    "\n",
    "\n"
   ]
  },
  {
   "cell_type": "code",
   "execution_count": null,
   "metadata": {},
   "outputs": [],
   "source": [
    "#saray visualization ki yahi basic hn\n",
    "#steps inlvove in data visulaztion\n",
    "\n",
    "#01import libraris\n",
    "\n",
    "\n",
    "\n",
    "from matplotlib import style\n",
    "import seaborn as sns\n",
    "import matplotlib.pyplot as plt\n",
    " #02set a theme\n",
    "\n",
    "\n",
    "sns.set_theme(style=\"ticks\",color_codes=True) #ticks a styles from many style of seaborn theme syles\n",
    "#03import data set\n",
    "kashti=sns.load_dataset(\"titanic\")#hum yaha data plot krny sy \n",
    "#pahla import data k table ko dkh ly k takay pta chl sky x \n",
    "#pr kis ko rkhna hn  or y pr kiss ko \n",
    "print(kashti)\n",
    "#data ki summmary kis trha nikalo ga\n",
    "\n",
    " #04plot basic graph with 1 variable for count plot\n",
    "p=sns.countplot(x=\"sex\",data=kashti)# count plot ki y-axis pr already count plot ajta hn  \n",
    "plt.show()\n",
    "\n",
    "#hue ka kiya function hai koi zarot nhi hn color automaticly agaay hn\n",
    "#agr 2 plot variable bana hn \"hue\" use hoga\n",
    "\n",
    "\n",
    "p=sns.countplot(x=\"sex\",data=kashti,hue=\"class\") \n",
    "plt.show()\n",
    "\n",
    "p.set_title(\"baba ammar\")\n",
    "plt.show()\n",
    "#plot pr title kasiy likhna hn"
   ]
  },
  {
   "cell_type": "code",
   "execution_count": null,
   "metadata": {},
   "outputs": [],
   "source": [
    "p.set_title(\"baba ammar\")\n",
    "plt.show()\n",
    "#plot pr title kasiy likhna hn"
   ]
  },
  {
   "cell_type": "code",
   "execution_count": null,
   "metadata": {},
   "outputs": [],
   "source": [
    "#saray visualization ki yahi basic hn\n",
    "#steps inlvove in data visulaztion\n",
    "\n",
    "\n",
    "#01import libraris\n",
    "\n",
    "\n",
    "\n",
    "from matplotlib import style\n",
    "import seaborn as sns\n",
    "import matplotlib.pyplot as plt\n",
    " #02set a theme\n",
    "\n",
    "\n",
    "sns.set_theme(style=\"ticks\",color_codes=True) #ticks a styles from many style of seaborn theme syles\n",
    "#03import data set\n",
    "kashti=sns.load_dataset(\"titanic\")#hum yaha data plot krny sy \n",
    "#pahla import data k table ko dkh ly k takay pta chl sky x \n",
    "#pr kis ko rkhna hn  or y pr kiss ko \n",
    "print(kashti)\n",
    "#data ki summmary kis trha nikalo ga\n",
    "\n",
    " #04plot basic graph with 1 variable for count plot\n",
    "p=sns.countplot(x=\"sex\",data=kashti)# count plot ki y-axis pr already count plot ajta hn  \n",
    "plt.show()\n",
    "\n",
    "#hue ka kiya function hai koi zarot nhi hn color automaticly agaay hn\n",
    "#agr 2 plot variable bana hn \"hue\" use hoga\n",
    "\n",
    "\n",
    "p=sns.countplot(x=\"sex\",data=kashti,hue=\"class\") \n",
    "\n",
    "plt.show()\n",
    "\n"
   ]
  },
  {
   "cell_type": "code",
   "execution_count": null,
   "metadata": {},
   "outputs": [],
   "source": []
  },
  {
   "cell_type": "code",
   "execution_count": null,
   "metadata": {},
   "outputs": [],
   "source": []
  },
  {
   "cell_type": "code",
   "execution_count": null,
   "metadata": {},
   "outputs": [],
   "source": [
    "#steps involved in Data Visualization\n",
    "# Step-1 import libraries\n",
    "import seaborn as sns\n",
    "import matplotlib.pyplot as plt\n",
    "\n",
    "# Step-2 set a theme\n",
    "sns.set_theme(style=\"ticks\", color_codes=True)\n",
    "\n",
    "# Step-3 import data set you can also import your own data\n",
    "kashti =  sns.load_dataset(\"titanic\")\n",
    "#print(kashti)\n",
    "\n",
    "# # Step-4 plot basic graph with 1 variable (count)\n",
    "p = sns.countplot(x= \"sex\", data=kashti)\n",
    "plt.show()\n",
    "\n",
    "# Step-5 plot basic graph with 2 variable (count plot)\n",
    "p = sns.countplot(x= \"sex\", data=kashti, hue=\"class\")\n",
    "plt.show()\n",
    "\n",
    "# Step-6 plot basic graph with 2 variable (count plot) wiith Titles\n",
    "p = sns.countplot(x= \"sex\", data=kashti, hue=\"class\")\n",
    "p.set_title(\"Baba_aammar ka count plot for kashti\")\n",
    "plt.show()"
   ]
  },
  {
   "cell_type": "code",
   "execution_count": null,
   "metadata": {},
   "outputs": [],
   "source": []
  },
  {
   "cell_type": "code",
   "execution_count": null,
   "metadata": {},
   "outputs": [],
   "source": [
    "# import library\n",
    "import pandas as pd\n",
    "\n",
    "#import data from file\n",
    "chilla = pd.read_csv(\"data_chilla.csv\")\n",
    "print(chilla)\n",
    "\n",
    "import seaborn as sns\n",
    "import matplotlib.pyplot as plt\n",
    "sns.set_theme(style=\"ticks\", color_codes=True)\n",
    "\n",
    "p= sns.countplot(x=\"Gender\", hue=\"Age\",  data=chilla)\n",
    "plt.show()"
   ]
  },
  {
   "cell_type": "markdown",
   "metadata": {},
   "source": [
    "# 01_line_plot\n",
    "- seaborn automatically install these libraries\n",
    "- *numpy*\n",
    "- *scipy*\n",
    "- *pandas* \n",
    "- *scipy*\n",
    "- *matplotlib*\n"
   ]
  },
  {
   "cell_type": "code",
   "execution_count": null,
   "metadata": {},
   "outputs": [],
   "source": [
    "#import libraries\n",
    "import seaborn as sns\n",
    "import matplotlib.pyplot as plt\n",
    "\n",
    "#load dataset automaically install hota hn lib mn\n",
    "\n",
    "phool=sns.load_dataset(\"iris\")\n",
    "\n",
    "#draw a line plot\n",
    " \n",
    "sns.lineplot(x=\"sepal_length\",y=\"sepal_width\",data=phool)"
   ]
  },
  {
   "cell_type": "code",
   "execution_count": null,
   "metadata": {},
   "outputs": [],
   "source": [
    "#line plot hamesha 2 numeric varriable k drmyan bnta hn\n"
   ]
  },
  {
   "cell_type": "code",
   "execution_count": null,
   "metadata": {},
   "outputs": [],
   "source": [
    "phool=sns.load_dataset(\"iris\")"
   ]
  },
  {
   "cell_type": "code",
   "execution_count": null,
   "metadata": {},
   "outputs": [],
   "source": [
    "seaborn"
   ]
  },
  {
   "cell_type": "code",
   "execution_count": null,
   "metadata": {},
   "outputs": [],
   "source": [
    "print(\"seaborn\")"
   ]
  },
  {
   "cell_type": "code",
   "execution_count": null,
   "metadata": {},
   "outputs": [],
   "source": [
    "sns"
   ]
  },
  {
   "cell_type": "code",
   "execution_count": null,
   "metadata": {},
   "outputs": [],
   "source": [
    "#akela data set nhi arha plot bn jata hn\n",
    "\n",
    "#import libraries\n",
    "import seaborn as sns\n",
    "import matplotlib.pyplot as plt\n",
    "\n",
    "#load dataset automaically install hota hn lib mn\n",
    "\n",
    "phool=sns.load_dataset(\"iris\")"
   ]
  },
  {
   "cell_type": "code",
   "execution_count": null,
   "metadata": {},
   "outputs": [],
   "source": [
    "#import libraries\n",
    "import seaborn as sns\n",
    "import matplotlib.pyplot as plt\n",
    "\n",
    "#load dataset automaically install hota hn lib mn\n",
    "\n",
    "phool=sns.load_dataset(\"iris\")\n",
    "\n",
    "#draw a line plot\n",
    " \n",
    "sns.lineplot(x=\"sepal_length\",y=\"sepal_width\",data=phool)"
   ]
  },
  {
   "cell_type": "code",
   "execution_count": null,
   "metadata": {},
   "outputs": [],
   "source": [
    "#import libraries\n",
    "import seaborn as sns\n",
    "import matplotlib.pyplot as plt\n",
    "\n",
    "#load dataset automaically install hota hn lib mn\n",
    "\n",
    "phool=sns.load_dataset(\"iris\")\n",
    "phool\n",
    "\n"
   ]
  },
  {
   "cell_type": "code",
   "execution_count": null,
   "metadata": {},
   "outputs": [],
   "source": []
  },
  {
   "cell_type": "code",
   "execution_count": null,
   "metadata": {},
   "outputs": [],
   "source": []
  }
 ],
 "metadata": {
  "kernelspec": {
   "display_name": "Python 3",
   "language": "python",
   "name": "python3"
  },
  "language_info": {
   "codemirror_mode": {
    "name": "ipython",
    "version": 3
   },
   "file_extension": ".py",
   "mimetype": "text/x-python",
   "name": "python",
   "nbconvert_exporter": "python",
   "pygments_lexer": "ipython3",
   "version": "3.7.6"
  }
 },
 "nbformat": 4,
 "nbformat_minor": 4
}
